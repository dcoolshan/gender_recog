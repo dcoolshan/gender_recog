{
 "cells": [
  {
   "cell_type": "code",
   "execution_count": 23,
   "metadata": {},
   "outputs": [],
   "source": [
    "import torch \n",
    "from torch import nn\n",
    "from torch import optim\n",
    "import torch.nn.functional as F\n",
    "from torch.utils.data import Dataset, DataLoader\n",
    "from torchvision import utils\n",
    "import numpy as np\n",
    "import pandas as pd\n",
    "%matplotlib inline\n",
    "%config InlineBackend.figure_format = 'retina'\n",
    "import matplotlib.pyplot as plt\n",
    "\n",
    "\n",
    "def load_checkpoint(filepath):\n",
    "    checkpoint = torch.load(filepath)\n",
    "    model = nn.Sequential(nn.Linear(20, 64),\n",
    "                      nn.ReLU(),\n",
    "                      nn.Dropout(p=0.25),\n",
    "                      nn.Linear(64, 256),\n",
    "                      nn.ReLU(),\n",
    "                      nn.Dropout(p=0.25),\n",
    "                      nn.Linear(256, 256),\n",
    "                      nn.ReLU(),\n",
    "                      nn.Dropout(p=0.25),\n",
    "                      nn.Linear(256, 64),\n",
    "                      nn.ReLU(),\n",
    "                      nn.Dropout(p=0.25),\n",
    "                      nn.Linear(64, 1),\n",
    "                      nn.Sigmoid()\n",
    "                      ) \n",
    "    model.load_state_dict(checkpoint['state_dict'])\n",
    "    \n",
    "    return model"
   ]
  },
  {
   "cell_type": "code",
   "execution_count": 24,
   "metadata": {},
   "outputs": [],
   "source": [
    "model = load_checkpoint('checkpoint.pth')\n",
    "#model.state_dict"
   ]
  },
  {
   "cell_type": "code",
   "execution_count": 29,
   "metadata": {},
   "outputs": [],
   "source": [
    "final_test_data = pd.read_csv('output_audio_processing.csv')\n",
    "final_test_data=final_test_data.iloc[:,1:] #as we want values from cloumn 2 to end ,can be checked from output_audio_processing.csv\n",
    "final_test_data_tensor = torch.tensor(final_test_data.values) #converting to tensor \n",
    "size_of_test_data=final_test_data_tensor.shape[0] #size to test_data\n",
    "finaltestloader = torch.utils.data.DataLoader(final_test_data_tensor, batch_size=size_of_test_data, shuffle=False)"
   ]
  },
  {
   "cell_type": "code",
   "execution_count": 30,
   "metadata": {},
   "outputs": [
    {
     "name": "stdout",
     "output_type": "stream",
     "text": [
      "female\n"
     ]
    }
   ],
   "source": [
    "with torch.no_grad():\n",
    "    model.eval()\n",
    "    for final_testing_data in finaltestloader:\n",
    "        final_output_test_data = model(final_testing_data.type(torch.FloatTensor)).view(-1) #precdicted value we get from network\n",
    "        final_output_test_data_numpy=final_output_test_data.numpy()\n",
    "        final_output_test_data_numpy[final_output_test_data_numpy>0.5]=1\n",
    "        final_output_test_data_numpy[final_output_test_data_numpy<=0.5]=0\n",
    "        #final_output=[final_output_test_data_numpy]\n",
    "        if final_output_test_data_numpy==1:\n",
    "            final_output_test_data_numpy='male'\n",
    "        else:\n",
    "            final_output_test_data_numpy='female'\n",
    "        print(final_output_test_data_numpy)"
   ]
  },
  {
   "cell_type": "code",
   "execution_count": null,
   "metadata": {},
   "outputs": [],
   "source": []
  }
 ],
 "metadata": {
  "kernelspec": {
   "display_name": "Python 3",
   "language": "python",
   "name": "python3"
  },
  "language_info": {
   "codemirror_mode": {
    "name": "ipython",
    "version": 3
   },
   "file_extension": ".py",
   "mimetype": "text/x-python",
   "name": "python",
   "nbconvert_exporter": "python",
   "pygments_lexer": "ipython3",
   "version": "3.7.0"
  }
 },
 "nbformat": 4,
 "nbformat_minor": 2
}
