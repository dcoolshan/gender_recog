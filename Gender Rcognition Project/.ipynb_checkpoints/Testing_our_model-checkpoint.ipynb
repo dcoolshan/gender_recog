{
 "cells": [
  {
   "cell_type": "code",
   "execution_count": 1,
   "metadata": {},
   "outputs": [],
   "source": [
    "import torch \n",
    "from torch import nn\n",
    "from torch import optim\n",
    "import torch.nn.functional as F\n",
    "from torch.utils.data import Dataset, DataLoader\n",
    "from torchvision import utils\n",
    "import numpy as np\n",
    "import pandas as pd\n",
    "%matplotlib inline\n",
    "%config InlineBackend.figure_format = 'retina'\n",
    "import matplotlib.pyplot as plt\n",
    "\n",
    "\n",
    "def load_checkpoint(filepath):\n",
    "    checkpoint = torch.load(filepath)\n",
    "    model = nn.Sequential(nn.Linear(20, 64),\n",
    "                      nn.ReLU(),\n",
    "                      nn.Dropout(p=0.25),\n",
    "                      nn.Linear(64, 256),\n",
    "                      nn.ReLU(),\n",
    "                      nn.Dropout(p=0.25),\n",
    "                      nn.Linear(256, 256),\n",
    "                      nn.ReLU(),\n",
    "                      nn.Dropout(p=0.25),\n",
    "                      nn.Linear(256, 64),\n",
    "                      nn.ReLU(),\n",
    "                      nn.Dropout(p=0.25),\n",
    "                      nn.Linear(64, 1),\n",
    "                      nn.Sigmoid()\n",
    "                      ) \n",
    "    model.load_state_dict(checkpoint['state_dict'])\n",
    "    \n",
    "    return model"
   ]
  },
  {
   "cell_type": "code",
   "execution_count": 2,
   "metadata": {},
   "outputs": [],
   "source": [
    "model = load_checkpoint('checkpoint.pth')\n",
    "#model.state_dict"
   ]
  },
  {
   "cell_type": "code",
   "execution_count": 3,
   "metadata": {},
   "outputs": [],
   "source": [
    "final_test_data = pd.read_csv('output_audio_processing.csv')\n",
    "final_test_data=final_test_data.iloc[:,1:] #as we want values from cloumn 2 to end ,can be checked from output_audio_processing.csv\n",
    "final_test_data_tensor = torch.tensor(final_test_data.values) #converting to tensor \n",
    "size_of_test_data=final_test_data_tensor.shape[0] #size to test_data\n",
    "finaltestloader = torch.utils.data.DataLoader(final_test_data_tensor, batch_size=size_of_test_data, shuffle=False)"
   ]
  },
  {
   "cell_type": "code",
   "execution_count": 4,
   "metadata": {},
   "outputs": [
    {
     "name": "stdout",
     "output_type": "stream",
     "text": [
      "[0.]\n"
     ]
    }
   ],
   "source": [
    "with torch.no_grad():\n",
    "    model.eval()\n",
    "    for final_testing_data in finaltestloader:\n",
    "        final_output_test_data = model(final_testing_data.type(torch.FloatTensor)).view(-1) #precdicted value we get from network\n",
    "        final_output_test_data_numpy=final_output_test_data.numpy()\n",
    "        final_output_test_data_numpy[final_output_test_data_numpy>0.5]=1\n",
    "        final_output_test_data_numpy[final_output_test_data_numpy<=0.5]=0\n",
    "        #final_output=[final_output_test_data_numpy]\n",
    "        print(final_output_test_data_numpy)"
   ]
  },
  {
   "cell_type": "code",
   "execution_count": 5,
   "metadata": {},
   "outputs": [
    {
     "data": {
      "text/html": [
       "<div>\n",
       "<style scoped>\n",
       "    .dataframe tbody tr th:only-of-type {\n",
       "        vertical-align: middle;\n",
       "    }\n",
       "\n",
       "    .dataframe tbody tr th {\n",
       "        vertical-align: top;\n",
       "    }\n",
       "\n",
       "    .dataframe thead th {\n",
       "        text-align: right;\n",
       "    }\n",
       "</style>\n",
       "<table border=\"1\" class=\"dataframe\">\n",
       "  <thead>\n",
       "    <tr style=\"text-align: right;\">\n",
       "      <th></th>\n",
       "      <th>Unnamed: 0</th>\n",
       "      <th>meanfreq</th>\n",
       "      <th>sd</th>\n",
       "      <th>freq.median</th>\n",
       "      <th>freq.Q25</th>\n",
       "      <th>freq.Q75</th>\n",
       "      <th>freq.IQR</th>\n",
       "      <th>skew</th>\n",
       "      <th>kurt</th>\n",
       "      <th>sp.ent</th>\n",
       "      <th>...</th>\n",
       "      <th>mode</th>\n",
       "      <th>centroid</th>\n",
       "      <th>meanfun</th>\n",
       "      <th>minfun</th>\n",
       "      <th>maxfun</th>\n",
       "      <th>meandom</th>\n",
       "      <th>mindom</th>\n",
       "      <th>maxdom</th>\n",
       "      <th>dfrange</th>\n",
       "      <th>modindx</th>\n",
       "    </tr>\n",
       "  </thead>\n",
       "  <tbody>\n",
       "    <tr>\n",
       "      <th>0</th>\n",
       "      <td>1</td>\n",
       "      <td>3.055867</td>\n",
       "      <td>3.072347</td>\n",
       "      <td>1.652948</td>\n",
       "      <td>0.907163</td>\n",
       "      <td>4.142052</td>\n",
       "      <td>3.234889</td>\n",
       "      <td>11.919232</td>\n",
       "      <td>197.352978</td>\n",
       "      <td>0.842233</td>\n",
       "      <td>...</td>\n",
       "      <td>0.7986</td>\n",
       "      <td>3.492606</td>\n",
       "      <td>2.143392</td>\n",
       "      <td>0</td>\n",
       "      <td>14.7</td>\n",
       "      <td>1.051791</td>\n",
       "      <td>0.258398</td>\n",
       "      <td>21.877734</td>\n",
       "      <td>21.619336</td>\n",
       "      <td>5.868526</td>\n",
       "    </tr>\n",
       "  </tbody>\n",
       "</table>\n",
       "<p>1 rows × 21 columns</p>\n",
       "</div>"
      ],
      "text/plain": [
       "   Unnamed: 0  meanfreq        sd  freq.median  freq.Q25  freq.Q75  freq.IQR  \\\n",
       "0           1  3.055867  3.072347     1.652948  0.907163  4.142052  3.234889   \n",
       "\n",
       "        skew        kurt    sp.ent    ...       mode  centroid   meanfun  \\\n",
       "0  11.919232  197.352978  0.842233    ...     0.7986  3.492606  2.143392   \n",
       "\n",
       "   minfun  maxfun   meandom    mindom     maxdom    dfrange   modindx  \n",
       "0       0    14.7  1.051791  0.258398  21.877734  21.619336  5.868526  \n",
       "\n",
       "[1 rows x 21 columns]"
      ]
     },
     "execution_count": 5,
     "metadata": {},
     "output_type": "execute_result"
    }
   ],
   "source": []
  },
  {
   "cell_type": "code",
   "execution_count": null,
   "metadata": {},
   "outputs": [],
   "source": []
  },
  {
   "cell_type": "code",
   "execution_count": null,
   "metadata": {},
   "outputs": [],
   "source": []
  },
  {
   "cell_type": "code",
   "execution_count": null,
   "metadata": {},
   "outputs": [],
   "source": []
  }
 ],
 "metadata": {
  "kernelspec": {
   "display_name": "Python 3",
   "language": "python",
   "name": "python3"
  },
  "language_info": {
   "codemirror_mode": {
    "name": "ipython",
    "version": 3
   },
   "file_extension": ".py",
   "mimetype": "text/x-python",
   "name": "python",
   "nbconvert_exporter": "python",
   "pygments_lexer": "ipython3",
   "version": "3.7.0"
  }
 },
 "nbformat": 4,
 "nbformat_minor": 2
}
